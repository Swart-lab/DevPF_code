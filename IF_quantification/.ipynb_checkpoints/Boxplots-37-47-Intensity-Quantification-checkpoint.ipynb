{
 "cells": [
  {
   "cell_type": "markdown",
   "id": "d9024f3c",
   "metadata": {},
   "source": [
    "# This script generates boxplots\n",
    "Here I generate the boxplot for the quantification of PS17-GFP and AS17-GFP fluorescence intensity upon knockdowns"
   ]
  },
  {
   "cell_type": "code",
   "execution_count": 45,
   "id": "01d7a502",
   "metadata": {},
   "outputs": [],
   "source": [
    "%matplotlib inline\n",
    "%config InlineBackend.print_figure_kwargs = {'bbox_inches':None}"
   ]
  },
  {
   "cell_type": "code",
   "execution_count": 1,
   "id": "a6104587",
   "metadata": {},
   "outputs": [],
   "source": [
    "import pandas\n",
    "import matplotlib\n",
    "import numpy as np\n",
    "import matplotlib.pyplot as plt\n",
    "from textwrap import wrap\n",
    "import scipy"
   ]
  },
  {
   "cell_type": "code",
   "execution_count": 2,
   "id": "4709b501",
   "metadata": {},
   "outputs": [
    {
     "name": "stdout",
     "output_type": "stream",
     "text": [
      "﻿ND7-KD;PGM-KD;PS17-KD;AS17-KD\r\n",
      "0,821098851;0,896371856;0,007485259;0,298435641\r\n",
      "0,809279499;1,107305628;0,011927431;0,490906635\r\n",
      "0,962621699;1,552092005;0,007895763;0,57355682\r\n",
      "1,488063249;1,372435885;0,026406136;0,678007361\r\n"
     ]
    },
    {
     "name": "stderr",
     "output_type": "stream",
     "text": [
      "bash: /ebio/abt2_projects/ag-swart-paramecium/miniconda3_lilia/lib/libtinfo.so.6: no version information available (required by bash)\n"
     ]
    }
   ],
   "source": [
    "%%bash\n",
    "head -n 5 37-KDs-normalized-intensities.csv"
   ]
  },
  {
   "cell_type": "code",
   "execution_count": 3,
   "id": "36961564",
   "metadata": {},
   "outputs": [
    {
     "data": {
      "text/html": [
       "<div>\n",
       "<style scoped>\n",
       "    .dataframe tbody tr th:only-of-type {\n",
       "        vertical-align: middle;\n",
       "    }\n",
       "\n",
       "    .dataframe tbody tr th {\n",
       "        vertical-align: top;\n",
       "    }\n",
       "\n",
       "    .dataframe thead th {\n",
       "        text-align: right;\n",
       "    }\n",
       "</style>\n",
       "<table border=\"1\" class=\"dataframe\">\n",
       "  <thead>\n",
       "    <tr style=\"text-align: right;\">\n",
       "      <th></th>\n",
       "      <th>ND7-KD</th>\n",
       "      <th>PGM-KD</th>\n",
       "      <th>PS17-KD</th>\n",
       "      <th>AS17-KD</th>\n",
       "    </tr>\n",
       "  </thead>\n",
       "  <tbody>\n",
       "    <tr>\n",
       "      <th>0</th>\n",
       "      <td>0.821099</td>\n",
       "      <td>0.896372</td>\n",
       "      <td>0.007485</td>\n",
       "      <td>0.298436</td>\n",
       "    </tr>\n",
       "    <tr>\n",
       "      <th>1</th>\n",
       "      <td>0.809279</td>\n",
       "      <td>1.107306</td>\n",
       "      <td>0.011927</td>\n",
       "      <td>0.490907</td>\n",
       "    </tr>\n",
       "    <tr>\n",
       "      <th>2</th>\n",
       "      <td>0.962622</td>\n",
       "      <td>1.552092</td>\n",
       "      <td>0.007896</td>\n",
       "      <td>0.573557</td>\n",
       "    </tr>\n",
       "    <tr>\n",
       "      <th>3</th>\n",
       "      <td>1.488063</td>\n",
       "      <td>1.372436</td>\n",
       "      <td>0.026406</td>\n",
       "      <td>0.678007</td>\n",
       "    </tr>\n",
       "    <tr>\n",
       "      <th>4</th>\n",
       "      <td>0.876033</td>\n",
       "      <td>1.305248</td>\n",
       "      <td>0.008003</td>\n",
       "      <td>0.459819</td>\n",
       "    </tr>\n",
       "  </tbody>\n",
       "</table>\n",
       "</div>"
      ],
      "text/plain": [
       "     ND7-KD    PGM-KD   PS17-KD   AS17-KD\n",
       "0  0.821099  0.896372  0.007485  0.298436\n",
       "1  0.809279  1.107306  0.011927  0.490907\n",
       "2  0.962622  1.552092  0.007896  0.573557\n",
       "3  1.488063  1.372436  0.026406  0.678007\n",
       "4  0.876033  1.305248  0.008003  0.459819"
      ]
     },
     "execution_count": 3,
     "metadata": {},
     "output_type": "execute_result"
    }
   ],
   "source": [
    "df_37 = pandas.read_csv(\"37-KDs-normalized-intensities.csv\", sep=';', decimal=',')\n",
    "df_37[:5]"
   ]
  },
  {
   "cell_type": "code",
   "execution_count": 22,
   "id": "2deadae6",
   "metadata": {
    "scrolled": false
   },
   "outputs": [
    {
     "data": {
      "image/png": "[encoded data removed]",
      "text/plain": [
       "<Figure size 576x432 with 1 Axes>"
      ]
     },
     "metadata": {
      "needs_background": "light"
     },
     "output_type": "display_data"
    }
   ],
   "source": [
    "\n",
    "boxprops = dict(linestyle='-', linewidth=2, color='black')\n",
    "medianprops = dict(linestyle='-', linewidth=2.5, color='firebrick')\n",
    "whiskerprops= dict(linestyle='-', linewidth=2.5, color='black')\n",
    "capprops = dict(linestyle='-', linewidth=2.5, color='black')\n",
    "flierprops = dict(marker='o', markerfacecolor='black', markersize=5, markeredgecolor='none')\n",
    "fsize=24\n",
    "\n",
    "fig, ax = plt.subplots(figsize=(8,6))\n",
    "df_37.boxplot(ax=ax, boxprops=boxprops,medianprops=medianprops, whiskerprops=whiskerprops, capprops=capprops, \n",
    "           flierprops=flierprops)\n",
    "\n",
    "ax.set_title(\"PS17-GFP fluorescence intensity upon knockdowns\",wrap = True, fontsize = fsize)\n",
    "ax.set_ylabel(\"normalized\\nmean fluorescence intensity\", wrap = True, fontsize = fsize)\n",
    "ax.tick_params(axis='both', which='major', width=2, labelsize=(fsize-2))\n",
    "ax.grid(False)\n",
    "\n",
    "fig.tight_layout()\n",
    "\n",
    "fig.savefig(\"PS17-GFP-intesity-KDs_poster.pdf\", bbox_inches='tight')"
   ]
  },
  {
   "cell_type": "markdown",
   "id": "68428c81",
   "metadata": {},
   "source": [
    "# AS17-GFP data"
   ]
  },
  {
   "cell_type": "code",
   "execution_count": 20,
   "id": "5d871b5e",
   "metadata": {},
   "outputs": [
    {
     "data": {
      "text/html": [
       "<div>\n",
       "<style scoped>\n",
       "    .dataframe tbody tr th:only-of-type {\n",
       "        vertical-align: middle;\n",
       "    }\n",
       "\n",
       "    .dataframe tbody tr th {\n",
       "        vertical-align: top;\n",
       "    }\n",
       "\n",
       "    .dataframe thead th {\n",
       "        text-align: right;\n",
       "    }\n",
       "</style>\n",
       "<table border=\"1\" class=\"dataframe\">\n",
       "  <thead>\n",
       "    <tr style=\"text-align: right;\">\n",
       "      <th></th>\n",
       "      <th>ND7-KD</th>\n",
       "      <th>PGM-KD</th>\n",
       "      <th>PS17-KD</th>\n",
       "      <th>AS17-KD</th>\n",
       "    </tr>\n",
       "  </thead>\n",
       "  <tbody>\n",
       "    <tr>\n",
       "      <th>0</th>\n",
       "      <td>2.102742</td>\n",
       "      <td>0.563457</td>\n",
       "      <td>0.091313</td>\n",
       "      <td>0.028244</td>\n",
       "    </tr>\n",
       "    <tr>\n",
       "      <th>1</th>\n",
       "      <td>0.866111</td>\n",
       "      <td>0.414521</td>\n",
       "      <td>0.036949</td>\n",
       "      <td>0.022138</td>\n",
       "    </tr>\n",
       "    <tr>\n",
       "      <th>2</th>\n",
       "      <td>1.635410</td>\n",
       "      <td>1.399980</td>\n",
       "      <td>0.005597</td>\n",
       "      <td>0.074520</td>\n",
       "    </tr>\n",
       "    <tr>\n",
       "      <th>3</th>\n",
       "      <td>0.688290</td>\n",
       "      <td>1.687003</td>\n",
       "      <td>0.066391</td>\n",
       "      <td>0.028548</td>\n",
       "    </tr>\n",
       "    <tr>\n",
       "      <th>4</th>\n",
       "      <td>0.869053</td>\n",
       "      <td>0.254990</td>\n",
       "      <td>0.016708</td>\n",
       "      <td>0.039204</td>\n",
       "    </tr>\n",
       "  </tbody>\n",
       "</table>\n",
       "</div>"
      ],
      "text/plain": [
       "     ND7-KD    PGM-KD   PS17-KD   AS17-KD\n",
       "0  2.102742  0.563457  0.091313  0.028244\n",
       "1  0.866111  0.414521  0.036949  0.022138\n",
       "2  1.635410  1.399980  0.005597  0.074520\n",
       "3  0.688290  1.687003  0.066391  0.028548\n",
       "4  0.869053  0.254990  0.016708  0.039204"
      ]
     },
     "execution_count": 20,
     "metadata": {},
     "output_type": "execute_result"
    }
   ],
   "source": [
    "df_47 = pandas.read_csv(\"47-KDs-normalized-intensities.csv\", sep=';', decimal=',')\n",
    "df_47[:5]"
   ]
  },
  {
   "cell_type": "code",
   "execution_count": 23,
   "id": "1af76de5",
   "metadata": {
    "scrolled": false
   },
   "outputs": [
    {
     "data": {
      "image/png": "[encoded data removed]",
      "text/plain": [
       "<Figure size 576x432 with 1 Axes>"
      ]
     },
     "metadata": {
      "needs_background": "light"
     },
     "output_type": "display_data"
    }
   ],
   "source": [
    "\n",
    "\n",
    "boxprops = dict(linestyle='-', linewidth=2, color='black')\n",
    "medianprops = dict(linestyle='-', linewidth=2.5, color='firebrick')\n",
    "whiskerprops= dict(linestyle='-', linewidth=2.5, color='black')\n",
    "capprops = dict(linestyle='-', linewidth=2.5, color='black')\n",
    "flierprops = dict(marker='o', markerfacecolor='black', markersize=5, markeredgecolor='none')\n",
    "fsize=24\n",
    "\n",
    "fig, ax = plt.subplots(figsize=(8,6))\n",
    "df_47.boxplot(ax=ax, boxprops=boxprops,medianprops=medianprops, whiskerprops=whiskerprops, capprops=capprops, \n",
    "           flierprops=flierprops)\n",
    "\n",
    "\n",
    "ax.set_title(\"AS17-GFP fluorescence intensity upon knockdowns\",wrap = True, fontsize = fsize)\n",
    "ax.set_ylabel(\"normalized\\nmean fluorescence intensity\", wrap = True, fontsize = fsize)\n",
    "ax.tick_params(axis='both', which='major', width=2, labelsize=(fsize-2))\n",
    "ax.grid(False)\n",
    "\n",
    "fig.tight_layout()\n",
    "\n",
    "fig.savefig(\"AS17-GFP-intesity-KDs_poster.pdf\", bbox_inches='tight')"
   ]
  },
  {
   "cell_type": "code",
   "execution_count": 2,
   "id": "04bf7c37",
   "metadata": {},
   "outputs": [
    {
     "data": {
      "text/html": [
       "<div>\n",
       "<style scoped>\n",
       "    .dataframe tbody tr th:only-of-type {\n",
       "        vertical-align: middle;\n",
       "    }\n",
       "\n",
       "    .dataframe tbody tr th {\n",
       "        vertical-align: top;\n",
       "    }\n",
       "\n",
       "    .dataframe thead th {\n",
       "        text-align: right;\n",
       "    }\n",
       "</style>\n",
       "<table border=\"1\" class=\"dataframe\">\n",
       "  <thead>\n",
       "    <tr style=\"text-align: right;\">\n",
       "      <th></th>\n",
       "      <th>Glass AntiFade</th>\n",
       "      <th>Gold AntiFade</th>\n",
       "    </tr>\n",
       "  </thead>\n",
       "  <tbody>\n",
       "    <tr>\n",
       "      <th>0</th>\n",
       "      <td>2.102742</td>\n",
       "      <td>0.108622</td>\n",
       "    </tr>\n",
       "    <tr>\n",
       "      <th>1</th>\n",
       "      <td>0.866111</td>\n",
       "      <td>0.430566</td>\n",
       "    </tr>\n",
       "    <tr>\n",
       "      <th>2</th>\n",
       "      <td>1.635410</td>\n",
       "      <td>0.469158</td>\n",
       "    </tr>\n",
       "    <tr>\n",
       "      <th>3</th>\n",
       "      <td>0.688290</td>\n",
       "      <td>0.537433</td>\n",
       "    </tr>\n",
       "    <tr>\n",
       "      <th>4</th>\n",
       "      <td>0.869053</td>\n",
       "      <td>0.291549</td>\n",
       "    </tr>\n",
       "    <tr>\n",
       "      <th>5</th>\n",
       "      <td>1.137706</td>\n",
       "      <td>0.214841</td>\n",
       "    </tr>\n",
       "    <tr>\n",
       "      <th>6</th>\n",
       "      <td>0.234183</td>\n",
       "      <td>0.063904</td>\n",
       "    </tr>\n",
       "    <tr>\n",
       "      <th>7</th>\n",
       "      <td>0.716761</td>\n",
       "      <td>0.185228</td>\n",
       "    </tr>\n",
       "    <tr>\n",
       "      <th>8</th>\n",
       "      <td>0.681294</td>\n",
       "      <td>0.510722</td>\n",
       "    </tr>\n",
       "    <tr>\n",
       "      <th>9</th>\n",
       "      <td>1.068450</td>\n",
       "      <td>0.094599</td>\n",
       "    </tr>\n",
       "  </tbody>\n",
       "</table>\n",
       "</div>"
      ],
      "text/plain": [
       "   Glass AntiFade  Gold AntiFade\n",
       "0        2.102742       0.108622\n",
       "1        0.866111       0.430566\n",
       "2        1.635410       0.469158\n",
       "3        0.688290       0.537433\n",
       "4        0.869053       0.291549\n",
       "5        1.137706       0.214841\n",
       "6        0.234183       0.063904\n",
       "7        0.716761       0.185228\n",
       "8        0.681294       0.510722\n",
       "9        1.068450       0.094599"
      ]
     },
     "execution_count": 2,
     "metadata": {},
     "output_type": "execute_result"
    }
   ],
   "source": [
    "df_mount = pandas.read_csv(\"47-ND7-mountmedium-normalized-intensities.csv\", sep=';', decimal=',')\n",
    "df_mount"
   ]
  },
  {
   "cell_type": "code",
   "execution_count": 3,
   "id": "3625e471",
   "metadata": {},
   "outputs": [
    {
     "name": "stdout",
     "output_type": "stream",
     "text": [
      "t-statistic = 3.9899, p-value = 0.0009\n"
     ]
    }
   ],
   "source": [
    "mount_stat, mount_pval = scipy.stats.ttest_ind(df_mount['Glass AntiFade'], df_mount['Gold AntiFade'])\n",
    "print(\"t-statistic = %.4f, p-value = %.4f\" % (mount_stat, mount_pval))"
   ]
  },
  {
   "cell_type": "code",
   "execution_count": 38,
   "id": "4ef4cc36",
   "metadata": {},
   "outputs": [
    {
     "data": {
      "image/png": "[encoded data removed]",
      "text/plain": [
       "<Figure size 576x432 with 1 Axes>"
      ]
     },
     "metadata": {
      "needs_background": "light"
     },
     "output_type": "display_data"
    }
   ],
   "source": [
    "# set general parameters\n",
    "\n",
    "boxprops = dict(linestyle='-', linewidth=2, color='black')\n",
    "medianprops = dict(linestyle='-', linewidth=2.5, color='firebrick')\n",
    "whiskerprops= dict(linestyle='-', linewidth=2.5, color='black')\n",
    "capprops = dict(linestyle='-', linewidth=2.5, color='black')\n",
    "flierprops = dict(marker='o', markerfacecolor='black', markersize=5, markeredgecolor='none')\n",
    "\n",
    "# generate figure\n",
    "fig, ax = plt.subplots(figsize=(8,6))\n",
    "df_mount.boxplot(ax=ax, boxprops=boxprops,medianprops=medianprops, whiskerprops=whiskerprops, capprops=capprops, \n",
    "           flierprops=flierprops)\n",
    "\n",
    "# set labels\n",
    "ax.set_ylabel(\"normalized\\nmean fluorescence intensity\", wrap = True, fontsize = 20)\n",
    "ax.grid(False)\n",
    "ax.tick_params(axis='both', which='major', labelsize=20)\n",
    "ax.set_ylim([0,2.6])\n",
    "\n",
    "# incldue t-test statictic\n",
    "#x1 should be the location of whatever box you want to point to and x2 should be the other box you want \n",
    "#to point to.\n",
    "#y2 should be where you want the line on the y-axis and y1 is how far down you want the vertical ticks \n",
    "#on each end to extend.\n",
    "\n",
    "plt.plot([1,1,2,2], [2.35, 2.4, 2.4, 2.35], linewidth=1, color='k')\n",
    "ax.annotate(\"*\", xy=(1.5, 2.4), fontsize=20, ha='center')\n",
    "#ax.text(0.95, 0.95, 't-statistic = {:.2f}\\np-value = {:.4f}'.format(mount_stat, mount_pval),\n",
    "#        transform=ax.transAxes, fontsize=12, verticalalignment='top')\n",
    "\n",
    "ax.annotate('t-statistic = {:.2f}\\np-value = {:.4f}'.format(mount_stat, mount_pval), \n",
    "            xy=(1.5, 2.25), \n",
    "            ha='center', va='center', fontsize=12,\n",
    "            bbox=dict(boxstyle=\"square\", fc=\"white\", ec=\"white\", lw=2))\n",
    "\n",
    "fig.tight_layout(rect=[0.01, 0.03, 1, 1])\n",
    "\n",
    "#fig.savefig(\"comparison-mount-medium.pdf\", bbox_inches='tight')"
   ]
  },
  {
   "cell_type": "code",
   "execution_count": null,
   "id": "48694a3a",
   "metadata": {},
   "outputs": [],
   "source": [
    "#script from Timo\n",
    "#modified from; https://onestopdataanalysis.com/python-outlier-detection/\n",
    "\n",
    "import numpy as np\n",
    " \n",
    "def detect_outlier(data_out):\n",
    "    # find q1 and q3 values\n",
    "    q1, q3 = np.percentile(sorted(data_out), [25, 75])\n",
    " \n",
    "    # compute IRQ\n",
    "    iqr = q3 - q1\n",
    " \n",
    "    # find lower and upper bounds\n",
    "    lower_bound = q1 - (1.5 * iqr)\n",
    "    upper_bound = q3 + (1.5 * iqr)\n",
    " \n",
    "    outliers = [x for x in data_out if x <= lower_bound or x >= upper_bound]\n",
    " \n",
    "    return outliers\n",
    "\n",
    "# input data_out\n",
    "data_out =[[114.6, 34.8, 22.6, 79.6, 15.7, 24.8, 20.9], [8.9, 6.1, 4.6], [15.6, 12.3, 4.8], [1.4, 4.7, 2.1, 3, 2, 4.1], [18.2, 6.7, 6.6, 14.9], [5.8, 4.1, 7], [9.8, 15.3, 5.1], [2.2, 1.6, 3.6, 4, 1, 0.2, 5.3]] \n",
    "\n",
    "\n",
    "\n",
    "#detect_outlier((data_out))\n",
    "for i in range(len(data_out)):\n",
    "    print(detect_outlier((data_out[i])))\n",
    "\n",
    "############# make a boxblot (https://onestopdataanalysis.com/box-and-plot-whisker/)\n",
    "import matplotlib \n",
    "matplotlib.use('Agg') #need to be inserted because of cygwin...\n",
    "import matplotlib.pyplot as matplotlib\n",
    "import numpy as np\n",
    "import seaborn\n",
    "\n",
    "\n",
    "def plot_box_swarm(data, y_axis_label, x_labels, plot_title, figure_name):\n",
    "    \"\"\"Plot box-plot and swarm plot for data list.\n",
    " \n",
    "    Args:\n",
    "        data (list of list): List of lists with data to be plotted.\n",
    "        y_axis_label (str): Y- axis label.\n",
    "        x_labels (list of str): List with labels of x-axis.\n",
    "        plot_title (str): Plot title.\n",
    "        figure_name (str): Path to output figure.\n",
    "         \n",
    "    \"\"\"\n",
    "    matplotlib.figure(figsize=[3,4]) #needs to be adjusted\n",
    "    seaborn.set(color_codes=True)\n",
    "    \n",
    "     \n",
    "    # add title to plot\n",
    "    matplotlib.title(plot_title)\n",
    " \n",
    "    # plot data on swarmplot and boxplot\n",
    "    seaborn.swarmplot(data=data, color=\".25\")\n",
    "    ax = seaborn.boxplot(data=data)\n",
    "    if False:\n",
    "        ax = seaborn.boxplot(data=data, color='lightgray') # if one wants to have uniform color of all boxes\n",
    " \n",
    "    # y-axis label\n",
    "    ax.set(ylabel=y_axis_label)\n",
    "    ax.set(yscale=\"log\") #if you one wants to have log y scale \n",
    " \n",
    "    # write labels with number of elements\n",
    "    #ax.set_xticklabels([\"{}\".format(l, len(data[x])) for x, l in enumerate(x_labels)], rotation=0)  # 'rotation' needs to be adjusted\n",
    "    ax.set_xticklabels([\"{} (n={})\".format(l, len(data[x])) for x, l in enumerate(x_labels)], rotation=90)  # 'rotation' needs to be adjusted + use (n={}) if one wants to show n=x\n",
    "    \n",
    "    # write figure file with quality 400 dpi\n",
    "    matplotlib.savefig(figure_name, bbox_inches='tight', dpi=400)\n",
    "    matplotlib.tight_layout()\n",
    "    matplotlib.close()\n",
    " \n",
    "\n",
    "data = data_out # too lazy but cloud cloud be changed above (for outlier determination) to make it more uniform...\n",
    "\n",
    "x_labels = [\"B4\",\"h2h1\",\"h2h2\",\"h2h6\",\"h2h8\",\"h2h15\",\"h2h16\",\"rhGSCF\"]\n",
    "y_axis_label = \"$EC_{50}$ [pM]\"\n",
    " \n",
    "plot_box_swarm(data, y_axis_label, x_labels, \"NFS60 activty\", ''.join(x_labels)+\".png\")\n",
    "\n"
   ]
  }
 ],
 "metadata": {
  "kernelspec": {
   "display_name": "Python 3 (ipykernel)",
   "language": "python",
   "name": "python3"
  },
  "language_info": {
   "codemirror_mode": {
    "name": "ipython",
    "version": 3
   },
   "file_extension": ".py",
   "mimetype": "text/x-python",
   "name": "python",
   "nbconvert_exporter": "python",
   "pygments_lexer": "ipython3",
   "version": "3.9.5"
  }
 },
 "nbformat": 4,
 "nbformat_minor": 5
}
