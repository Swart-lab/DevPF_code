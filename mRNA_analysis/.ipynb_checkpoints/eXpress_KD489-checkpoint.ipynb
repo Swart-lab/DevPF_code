{
 "cells": [
  {
   "cell_type": "markdown",
   "id": "15c637c9",
   "metadata": {},
   "source": [
    "#### Aim\n",
    "\n",
    "This notebook extracts FPKM (fragments per kilobase million) values from eXpress reults of mRNA sequencing data. The expression of genes of interesnt will be compared in the traget and the control knockdown. Control knockdown is ND7. Target knockdowns are AS17 and PS17. Also, different developmental stages are available (starved-veg: 1-10% fragmentation; 20: 10-30% fragmentation; 50: 40-50% fragmentation; 80: 80-90% fragmentation; and 100A: 80 + 6h(100% fragmentation + new MACs visible))\n",
    "\n",
    "#### Samples\n",
    "\n",
    "Total RNA was extracted from 300ml/100ml Paramecium culture that was subjected to RNAi by feeding. Total RNA was send to Genewiz for mRNA sequencing (poly-A enrichment, NovaSeq 2x150, between 9 Mio and 22 Mio reads per sample). Reads were trimmed for adapters with trim_galore and mapped to the Paramecium tetraurelia strain 51 transcriptome (https://paramecium.i2bc.paris-saclay.fr/files/Paramecium/tetraurelia/51/annotations/ptetraurelia_mac_51/ptetraurelia_mac_51_annotation_v2.0.transcript.fa). Mapping was done with hisat2 allowing 20 multimappings. Using samtools, the properly paired and mapped reads were filtered (-f2 flag) and sorted by the read name (-n flag). Read counts per transcript were acquired with eXpress (https://www.nature.com/articles/nmeth.2251, https://pachterlab.github.io/eXpress/overview.html) with 5 additional online EM rounds to perform on the data after the initial online round (-O 5 flag) to improve accuracy.\n",
    "\n",
    "#### What's done here\n",
    "\n",
    "The results.xprs output file is reformated and only the genes of interest for KD-efficiency evaluation are arranged in tables. These will be saved and can be imported in Excel to generate bar plots."
   ]
  },
  {
   "cell_type": "code",
   "execution_count": null,
   "id": "aaca10a6",
   "metadata": {},
   "outputs": [],
   "source": [
    "import pandas as pd\n",
    "import matplotlib\n",
    "import numpy as np\n",
    "import matplotlib.pyplot as plt\n",
    "from functools import partial, reduce"
   ]
  },
  {
   "cell_type": "code",
   "execution_count": null,
   "id": "d1b40156",
   "metadata": {},
   "outputs": [],
   "source": [
    "def fpkm_genes (path_data, samples, transcripts, t_names, path_save, name_save, save = False):\n",
    "    \n",
    "    '''\n",
    "    # Prepare the fpkm matrix (rows are samples and colums are the transcripts)\n",
    "    # contains the rounded fpkm outputted by eXpress\n",
    "    '''\n",
    "    \n",
    "    dfs = dict.fromkeys(samples, None)\n",
    "    dfs_unround = dict.fromkeys(samples, None)\n",
    "    \n",
    "    # store the results from eXpress as dataframes in dictionary\n",
    "    for i in samples:\n",
    "        folder = path_data + i + '/eXpress/results.xprs'\n",
    "        result = pd.read_csv(folder, sep=\"\\t\")\n",
    "        dfs[i] = result\n",
    "        dfs_unround[i] = result\n",
    "        \n",
    "    # drop all the columns you do not need as input for Deseq2\n",
    "    for f in samples:     \n",
    "        dfs[f] = dfs[f].drop(columns=['bundle_id',\"tpm\",'length','eff_length','tot_counts','uniq_counts',\n",
    "                                      'est_counts','ambig_distr_alpha','ambig_distr_beta','fpkm_conf_low',\n",
    "                                      'fpkm_conf_high','solvable','eff_counts'])\n",
    "        dfs_unround[f] = dfs_unround[f].drop(columns=['bundle_id',\"tpm\",'length','eff_length','tot_counts',\n",
    "                                                  'uniq_counts','est_counts','ambig_distr_alpha',\n",
    "                                                  'ambig_distr_beta','fpkm_conf_low','fpkm_conf_high',\n",
    "                                                  'solvable','eff_counts'])\n",
    "    \n",
    "    # round the values in column \"eff_counts\" to integers\n",
    "    for d in samples:\n",
    "        dfs[d]['fpkm'] = dfs[d]['fpkm'].round().astype(int)\n",
    "\n",
    "    # change the column name eff_counts to sample name\n",
    "    for s in samples:\n",
    "        dfs[s] = dfs[s].rename({'fpkm': s}, axis='columns')\n",
    "        \n",
    "    # merge the dataframes into one big dataframe and transpose data frame \n",
    "    my_reduce = partial(pd.merge, on='target_id', how='outer')                                                              \n",
    "    fpkm_df = reduce(my_reduce, dfs.values()).transpose()\n",
    "    fpkm_df.columns = fpkm_df.iloc[0]\n",
    "    fpkm_df = fpkm_df.drop(fpkm_df.index[0])\n",
    "    \n",
    "    \n",
    "    # extract your genes of interest\n",
    "    fpkm_genes_df = fpkm_df[transcripts]\n",
    "    \n",
    "\n",
    "    # add transcript names as first row\n",
    "    fpkm_genes_df.loc[\"transcript_names\"]=t_names\n",
    "    \n",
    "    display(fpkm_genes_df)\n",
    "    \n",
    "    if save:\n",
    "        #save as .csv\n",
    "        save_name = path_save + f\"{name_save}.csv\"\n",
    "        fpkm_genes_df.to_csv(save_name, sep = ',')\n",
    "        \n",
    "    "
   ]
  },
  {
   "cell_type": "code",
   "execution_count": null,
   "id": "6a519583",
   "metadata": {},
   "outputs": [],
   "source": [
    "# set the paths\n",
    "path_data = \"/ebio/ag-swart/home/lhaeussermann/ag-swart-paramecium/analysis/mRNA_lilia_KD489/hisat2_express/transcriptome_mapping/\"\n",
    "path_save = \"/ebio/ag-swart/home/lhaeussermann/ag-swart-paramecium/analysis/mRNA_lilia_KD489/hisat2_express/transcriptome_mapping/eXpress_results/\"\n"
   ]
  },
  {
   "cell_type": "code",
   "execution_count": null,
   "id": "9f136857",
   "metadata": {},
   "outputs": [],
   "source": [
    "# fpkm for AS17 and PS17 transcripts in kd1\n",
    "samples = ['veg_ND7-1','veg_AS17-1','veg_PS17-1','20_ND7-1','20_AS17-1','20_PS17-1',\n",
    "          '80_ND7-1','80_AS17-1','80_PS17-1','100A_ND7-1','100A_AS17-1','100A_PS17-1']\n",
    "transcripts = ['PTET.51.1.T0620188','PTET.51.1.T0240213']\n",
    "t_names = ['AS17','PS17']\n",
    "name_save = \"KD489-kd1\"\n",
    "\n",
    "fpkm_genes (path_data, samples, transcripts, t_names, path_save, name_save, save = True)\n"
   ]
  },
  {
   "cell_type": "code",
   "execution_count": null,
   "id": "6756335d",
   "metadata": {},
   "outputs": [],
   "source": [
    "# fpkm for AS17 and PS17 transcripts in kd2\n",
    "samples = ['veg_ND7-2','veg_AS17-2','veg_PS17-2','20_ND7-2','20_AS17-2','20_PS17-2',\n",
    "          '80_ND7-2','80_AS17-2','80_PS17-2','100A_ND7-2','100A_AS17-2','100A_PS17-2']\n",
    "transcripts = ['PTET.51.1.T0620188','PTET.51.1.T0240213']\n",
    "t_names = ['AS17','PS17']\n",
    "name_save = \"KD489-kd2\"\n",
    "\n",
    "fpkm_genes (path_data, samples, transcripts, t_names, path_save, name_save, save = True)"
   ]
  },
  {
   "cell_type": "code",
   "execution_count": null,
   "id": "c47d95ff",
   "metadata": {},
   "outputs": [],
   "source": [
    "# fpkm for AS17 and PS17 transcripts in kd3\n",
    "samples = ['veg_ND7-3','veg_AS17-3','veg_PS17-3','20_ND7-3','20_AS17-3','20_PS17-3',\n",
    "          '80_ND7-3','80_AS17-3','80_PS17-3','100A_ND7-3','100A_AS17-3','100A_PS17-3']\n",
    "transcripts = ['PTET.51.1.T0620188','PTET.51.1.T0240213']\n",
    "t_names = ['AS17','PS17']\n",
    "name_save = \"KD489-kd3\"\n",
    "\n",
    "fpkm_genes (path_data, samples, transcripts, t_names, path_save, name_save, save = True)"
   ]
  },
  {
   "cell_type": "code",
   "execution_count": null,
   "id": "8af8bcea",
   "metadata": {},
   "outputs": [],
   "source": [
    "# fpkm for AS17 and PS17 transcripts in kd4\n",
    "samples = ['veg_ND7-4','veg_AS17-4','veg_PS17-4','20_ND7-4','20_AS17-4','20_PS17-4',\n",
    "          '80_ND7-4','80_AS17-4','80_PS17-4','100A_ND7-4','100A_AS17-4','100A_PS17-4']\n",
    "transcripts = ['PTET.51.1.T0620188','PTET.51.1.T0240213']\n",
    "t_names = ['AS17','PS17']\n",
    "name_save = \"KD489-kd4\"\n",
    "\n",
    "fpkm_genes (path_data, samples, transcripts, t_names, path_save, name_save, save = True)"
   ]
  }
 ],
 "metadata": {
  "kernelspec": {
   "display_name": "Python 3 (ipykernel)",
   "language": "python",
   "name": "python3"
  },
  "language_info": {
   "codemirror_mode": {
    "name": "ipython",
    "version": 3
   },
   "file_extension": ".py",
   "mimetype": "text/x-python",
   "name": "python",
   "nbconvert_exporter": "python",
   "pygments_lexer": "ipython3",
   "version": "3.9.5"
  }
 },
 "nbformat": 4,
 "nbformat_minor": 5
}
